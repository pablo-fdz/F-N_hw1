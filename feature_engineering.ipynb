{
 "cells": [
  {
   "cell_type": "markdown",
   "id": "79072736",
   "metadata": {},
   "source": [
    "# 0. Libraries"
   ]
  },
  {
   "cell_type": "markdown",
   "id": "1596dc79",
   "metadata": {},
   "source": [
    "# 1. Google Trends data"
   ]
  },
  {
   "cell_type": "markdown",
   "id": "7f7fd2e1",
   "metadata": {},
   "source": [
    "# 2. LDA topic share by US state"
   ]
  }
 ],
 "metadata": {
  "kernelspec": {
   "display_name": "itm2",
   "language": "python",
   "name": "python3"
  },
  "language_info": {
   "name": "python",
   "version": "3.12.2"
  }
 },
 "nbformat": 4,
 "nbformat_minor": 5
}
