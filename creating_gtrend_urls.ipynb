{
 "cells": [
  {
   "cell_type": "markdown",
   "id": "ea80a156",
   "metadata": {},
   "source": [
    "Pipeline:\n",
    "- Filter issues that interest us (healthcare, racism + immigration, housing, guns + criminal justice).\n",
    "- For each of the issues (each issue a corpus), vectorize/apply tf-idf to actors and claims.\n",
    "- Create a criteria for keeping the top n-grams.\n",
    "- Add metadata to resulting DTMs (the relevant thing is the year and the month)."
   ]
  }
 ],
 "metadata": {
  "language_info": {
   "name": "python"
  }
 },
 "nbformat": 4,
 "nbformat_minor": 5
}
